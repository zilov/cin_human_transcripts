{
 "cells": [
  {
   "cell_type": "code",
   "execution_count": 3,
   "id": "339b2c66",
   "metadata": {},
   "outputs": [],
   "source": [
    "## функция читает фаста-файл и возвращает только сиквенс который находится под нужным хедером\n",
    "def fasta_read_by_header(path_to_fasta_file, header):\n",
    "    \"Returns dicttionary with header:sequence\"\n",
    "    was_header = False\n",
    "    with open(path_to_fasta_file) as fh:\n",
    "        for i, line in enumerate(fh):\n",
    "            line = line.strip()\n",
    "            if line.startswith(f\">{header}\"):\n",
    "                was_header = True\n",
    "                seq = []\n",
    "            elif line.startswith('>') and was_header:\n",
    "                return ''.join(seq)\n",
    "            elif was_header:\n",
    "                seq.append(line)"
   ]
  },
  {
   "cell_type": "code",
   "execution_count": 12,
   "id": "5403d94f",
   "metadata": {},
   "outputs": [
    {
     "name": "stdout",
     "output_type": "stream",
     "text": [
      "SRR15347854.1514961_len_1438_transcript_1_ident_0.486_length_381_start_771_stop_391\n",
      "SRR15347854.1541990_len_1126_transcript_1_ident_0.574_length_237_start_480_stop_716\n",
      "SRR15347854.336834_len_6246_transcript_1_ident_0.448_length_309_start_6224_stop_5961\n",
      "SRR15347854.1395307_len_791_transcript_1_ident_0.568_length_201_start_319_stop_519\n",
      "SRR15347854.195561_len_7136_transcript_1_ident_0.431_length_288_start_410_stop_697\n",
      "SRR15347854.1597595_len_2595_transcript_1_ident_0.466_length_171_start_183_stop_34\n",
      "SRR15347854.291150_len_5659_transcript_1_ident_0.466_length_171_start_178_stop_29\n",
      "SRR15347854.1342456_len_2861_transcript_1_ident_0.540_length_138_start_789_stop_652\n",
      "SRR15347854.1342456_len_2861_transcript_2_ident_0.382_length_312_start_788_stop_498\n",
      "SRR15347854.195561_len_7136_transcript_2_ident_0.382_length_312_start_410_stop_700\n",
      "SRR15347854.1514961_len_1438_transcript_2_ident_0.859_length_99_start_1316_stop_1414\n",
      "SRR15347854.1541990_len_1126_transcript_2_ident_0.843_length_99_start_490_stop_588\n",
      "SRR15347854.1597595_len_2595_transcript_2_ident_0.583_length_147_start_184_stop_53\n",
      "SRR15347854.291150_len_5659_transcript_2_ident_0.583_length_147_start_179_stop_48\n",
      "SRR15347854.1395307_len_791_transcript_2_ident_0.362_length_261_start_316_stop_516\n",
      "SRR15347854.336834_len_6246_transcript_2_ident_0.699_length_93_start_5663_stop_5755\n",
      "SRR15347854.1541990_len_1126_transcript_3_ident_0.543_length_180_start_508_stop_687\n",
      "SRR15347854.1514961_len_1438_transcript_3_ident_0.657_length_132_start_1272_stop_1403\n",
      "SRR15347854.1395307_len_791_transcript_3_ident_0.379_length_273_start_316_stop_519\n",
      "SRR15347854.1342456_len_2861_transcript_3_ident_0.320_length_273_start_785_stop_513\n",
      "SRR15347854.336834_len_6246_transcript_3_ident_0.388_length_204_start_6229_stop_6041\n",
      "SRR15347854.1148349_len_5592_transcript_4_ident_0.922_length_159_start_4356_stop_4514\n",
      "SRR15347854.1633414_len_3522_transcript_4_ident_0.900_length_159_start_2156_stop_2314\n",
      "SRR15347854.41151_len_4816_transcript_4_ident_0.530_length_288_start_2056_stop_1769\n",
      "SRR15347854.855849_len_3817_transcript_4_ident_0.606_length_243_start_2350_stop_2108\n",
      "SRR15347854.85586_len_2700_transcript_4_ident_0.886_length_147_start_2242_stop_2096\n",
      "SRR15347854.1173950_len_6360_transcript_4_ident_0.886_length_147_start_825_stop_971\n",
      "SRR15347854.10804_len_7353_transcript_4_ident_0.886_length_147_start_3612_stop_3466\n",
      "SRR15347854.1220344_len_8204_transcript_4_ident_0.886_length_147_start_2161_stop_2307\n",
      "SRR15347854.1294088_len_7497_transcript_4_ident_0.965_length_129_start_345_stop_473\n",
      "SRR15347854.1212119_len_2986_transcript_4_ident_0.961_length_129_start_161_stop_33\n",
      "SRR15347854.1698311_len_3689_transcript_4_ident_0.961_length_129_start_2408_stop_2280\n",
      "SRR15347854.293923_len_4547_transcript_4_ident_0.961_length_129_start_2823_stop_2951\n",
      "SRR15347854.431657_len_5419_transcript_4_ident_0.961_length_129_start_3236_stop_3364\n",
      "SRR15347854.1652764_len_6078_transcript_4_ident_0.961_length_129_start_3472_stop_3600\n",
      "SRR15347854.740620_len_3481_transcript_4_ident_0.942_length_129_start_149_stop_277\n",
      "SRR15347854.1120963_len_5045_transcript_4_ident_0.942_length_129_start_2320_stop_2192\n",
      "SRR15347854.613575_len_3587_transcript_4_ident_0.938_length_129_start_617_stop_745\n",
      "SRR15347854.746699_len_3364_transcript_4_ident_0.926_length_129_start_1280_stop_1408\n",
      "SRR15347854.774109_len_3583_transcript_4_ident_0.926_length_129_start_221_stop_93\n",
      "SRR15347854.1817807_len_2460_transcript_4_ident_0.529_length_246_start_787_stop_542\n",
      "SRR15347854.1445586_len_4807_transcript_4_ident_0.535_length_240_start_2401_stop_2168\n",
      "SRR15347854.1495254_len_1687_transcript_4_ident_0.929_length_123_start_1546_stop_1668\n",
      "SRR15347854.254076_len_4504_transcript_4_ident_0.714_length_162_start_272_stop_433\n",
      "SRR15347854.1597595_len_2595_transcript_4_ident_0.616_length_186_start_481_stop_666\n",
      "SRR15347854.1342456_len_2861_transcript_4_ident_0.616_length_186_start_1087_stop_1272\n",
      "SRR15347854.1200484_len_2017_transcript_4_ident_0.692_length_156_start_1497_stop_1652\n",
      "SRR15347854.291150_len_5659_transcript_4_ident_0.554_length_198_start_3443_stop_3640\n",
      "SRR15347854.294330_len_3437_transcript_4_ident_0.835_length_96_start_748_stop_843\n",
      "SRR15347854.526579_len_4321_transcript_4_ident_0.835_length_96_start_786_stop_881\n",
      "SRR15347854.613618_len_3572_transcript_4_ident_0.677_length_123_start_266_stop_385\n",
      "SRR15347854.195561_len_7136_transcript_4_ident_0.716_length_111_start_174_stop_64\n"
     ]
    }
   ],
   "source": [
    "## выделяем уникальные риды для кадого транскрипта для которых были найдены совпадения\n",
    "\n",
    "\n",
    "mmseq_result = '/home/dzilov/data_zilov/data/natella_tasks/human_tandem_transcript/human_transcript_pacbio_reads/result_long_read_transcript.m8'\n",
    "match_transcripts = {}\n",
    "long_reads_fasta = '../../human_transcript_pacbio_reads/SRR15347854.fasta'\n",
    "\n",
    "\n",
    "with open(mmseq_result) as fh:\n",
    "    used_reads = {'1':[], '2': [], '3': [], '4': []}\n",
    "    for line in fh:\n",
    "        line = line.strip().split(\"\\t\")\n",
    "        trancsript = line[0].split('_')[0]\n",
    "        read_header = line[1]\n",
    "        if read_header in used_reads[trancsript]:\n",
    "            continue\n",
    "        read = fasta_read_by_header(long_reads_fasta, read_header)\n",
    "        used_reads[trancsript].append(read_header)\n",
    "        ident = line[2]\n",
    "        length = line[3]\n",
    "        start_read = line[-4]\n",
    "        stop_read = line[-3]\n",
    "        header = f'{read_header}_len_{len(read)}_transcript_{trancsript}_ident_{ident}_length_{length}_start_{start_read}_stop_{stop_read}'        \n",
    "        print(header)\n",
    "        match_transcripts[header] = read"
   ]
  },
  {
   "cell_type": "code",
   "execution_count": 13,
   "id": "fa59503f",
   "metadata": {},
   "outputs": [],
   "source": [
    "match_reads_fasta = '../data/match_long_reads.fasta'\n",
    "\n",
    "with open(match_reads_fasta, 'w') as fw:\n",
    "    for header, seq in match_transcripts.items():\n",
    "        line_to_write = f'>{header}\\n{seq}\\n'\n",
    "        fw.write(line_to_write)"
   ]
  },
  {
   "cell_type": "code",
   "execution_count": null,
   "id": "a8e270bf",
   "metadata": {},
   "outputs": [],
   "source": []
  }
 ],
 "metadata": {
  "kernelspec": {
   "display_name": "Python 3",
   "language": "python",
   "name": "python3"
  },
  "language_info": {
   "codemirror_mode": {
    "name": "ipython",
    "version": 3
   },
   "file_extension": ".py",
   "mimetype": "text/x-python",
   "name": "python",
   "nbconvert_exporter": "python",
   "pygments_lexer": "ipython3",
   "version": "3.7.9"
  }
 },
 "nbformat": 4,
 "nbformat_minor": 5
}
